{
 "cells": [
  {
   "cell_type": "code",
   "execution_count": null,
   "id": "ba06c4ab-0e7c-4ab1-8987-bd0a27733d3c",
   "metadata": {},
   "outputs": [],
   "source": [
    "import sys\n",
    "import numpy as np\n",
    "import os\n",
    "import matplotlib.pyplot as plt\n",
    "\n",
    "import mcg\n",
    "import mdtraj as md\n",
    "import time\n",
    "import pandas as pd"
   ]
  },
  {
   "cell_type": "code",
   "execution_count": null,
   "id": "f58ca37f-8fee-4fe9-84b0-d86b0b01eee2",
   "metadata": {},
   "outputs": [],
   "source": [
    "idx = 1"
   ]
  },
  {
   "cell_type": "code",
   "execution_count": null,
   "id": "e3bd0359-cad0-4ac7-838a-1df986da7350",
   "metadata": {},
   "outputs": [],
   "source": [
    "stride = 1"
   ]
  },
  {
   "cell_type": "code",
   "execution_count": null,
   "id": "e2e02188-2c74-45b9-9f0f-4ce72b4a285a",
   "metadata": {},
   "outputs": [],
   "source": [
    "burst = 1e5"
   ]
  },
  {
   "cell_type": "code",
   "execution_count": null,
   "id": "70a8c6fa-d6e5-4c26-acc1-1e8f56ba8d2f",
   "metadata": {},
   "outputs": [],
   "source": [
    "mu = 170\n",
    "run = 3"
   ]
  },
  {
   "cell_type": "code",
   "execution_count": null,
   "id": "5175656b-5a15-4f66-90ca-c3ea5e159208",
   "metadata": {},
   "outputs": [],
   "source": [
    "folder = f\"data_mu{mu}/run_{run}/\"\n",
    "\n",
    "conffolder = \"gro_files\""
   ]
  },
  {
   "cell_type": "code",
   "execution_count": null,
   "id": "6ff39c15-e3eb-43d5-825a-f7123ab34ff3",
   "metadata": {},
   "outputs": [],
   "source": [
    "df = pd.DataFrame()\n",
    "\n",
    "logfile_path = os.path.join(folder, 'log.txt')\n",
    "weights = np.load(os.path.join(folder, 'trajectory_weights.npy'))[1:]\n",
    "\n",
    "# Load the log file\n",
    "df = pd.read_fwf(\n",
    "    logfile_path,\n",
    "    header=0,\n",
    "    widths=[21] * 7,\n",
    "    strip=True\n",
    ")\n",
    "df.columns = df.columns.str.strip()\n",
    "\n"
   ]
  },
  {
   "cell_type": "code",
   "execution_count": null,
   "id": "02f23979-b70d-4860-8c12-2fe33210e5f7",
   "metadata": {},
   "outputs": [],
   "source": [
    "# df_succ = df[df['Successful']]"
   ]
  },
  {
   "cell_type": "code",
   "execution_count": null,
   "id": "4953b61c-c061-4e04-a352-9c52af1e441c",
   "metadata": {},
   "outputs": [],
   "source": [
    "# sp_frames = df_succ['SP frame on new traj']"
   ]
  },
  {
   "cell_type": "code",
   "execution_count": null,
   "id": "24ef0aab-1eb0-46fa-a036-db5168757c16",
   "metadata": {},
   "outputs": [],
   "source": [
    "# sp_frames = np.array(sp_frames)"
   ]
  },
  {
   "cell_type": "code",
   "execution_count": null,
   "id": "21c7f577-ae9f-451f-a2df-3f7f4da5f75a",
   "metadata": {},
   "outputs": [],
   "source": [
    "# sp_frame = sp_frames[idx-1]"
   ]
  },
  {
   "cell_type": "code",
   "execution_count": null,
   "id": "2920ef93-4b9e-46b3-9b80-bc53d56796cb",
   "metadata": {},
   "outputs": [],
   "source": [
    "# sp_frame"
   ]
  },
  {
   "cell_type": "code",
   "execution_count": null,
   "id": "8640d02e-006e-43a1-bb74-22c2dc5afeb2",
   "metadata": {},
   "outputs": [],
   "source": [
    "# Input files\n",
    "# folder = \"../../data/T_250_P_500/simulation_co2_system_N_2000k_222000k_T_250_P_500_v3\"\n",
    "# xtc_file = os.path.join(folder, \"output.xtc\")\n",
    "dcd_file = os.path.join(folder, f\"traj_{idx}.dcd\")\n",
    "topology_file = os.path.join(conffolder, \"conf.gro\")\n",
    "\n",
    "\n",
    "# Load the trajectory with a stride of n (e.g., every 10th frame)\n",
    "n = stride  # Change this to the desired interval\n",
    "traj = md.load(dcd_file, top=topology_file, stride=n)\n",
    "original_frame_indices = np.arange(traj.n_frames) * n\n",
    "\n",
    "traj.time = np.arange(0, traj.n_frames) * burst * n\n",
    "\n",
    "\n",
    "#traj.xyz = traj.xyz.astype('float32')\n",
    "\n",
    "\n",
    "# Save the reduced trajectory as a .gro file\n",
    "# Output file\n",
    "# gro_file = \"trajectory.gro\"\n",
    "# traj.save_gro(gro_file)\n",
    "\n",
    "print(f\"Trajectory loaded using every {n}th step\")\n"
   ]
  },
  {
   "cell_type": "code",
   "execution_count": null,
   "id": "9d3a9b5b-fd16-42a2-a068-4d5579c640fe",
   "metadata": {},
   "outputs": [],
   "source": [
    "traj = traj[:30]"
   ]
  },
  {
   "cell_type": "code",
   "execution_count": null,
   "id": "cab39d6b-5382-4b58-ae81-7b6a0cf1b2ab",
   "metadata": {},
   "outputs": [],
   "source": [
    "#traj = traj[:300]"
   ]
  },
  {
   "cell_type": "code",
   "execution_count": null,
   "id": "287478ed-d42b-4c0a-8775-4030c7f2b06f",
   "metadata": {},
   "outputs": [],
   "source": [
    "comparison_file = os.path.join(folder, f\"cv_{idx}.txt\")\n",
    "\n",
    "frames_comp, mcg_values_comparison = np.loadtxt(comparison_file, skiprows=1, unpack=True)"
   ]
  },
  {
   "cell_type": "code",
   "execution_count": null,
   "id": "e6541108-34c2-4801-be32-d0652a9ca336",
   "metadata": {},
   "outputs": [],
   "source": [
    "frames2us =  2e-9"
   ]
  },
  {
   "cell_type": "code",
   "execution_count": null,
   "id": "242cf63e-7412-490d-ac37-60d58b8e8546",
   "metadata": {},
   "outputs": [],
   "source": [
    "times_ps, CAR_COM_frames, WATER_COM_frames, box_lengths = mcg.COM_calculation_mdtraj(traj)\n",
    "total_frames = len(times_ps)\n",
    "\n",
    "MCG_OP_new_results = []\n",
    "\n",
    "time0 = time.time()\n",
    "for idx, time_ps in enumerate(times_ps):\n",
    "    CAR_COM = CAR_COM_frames[idx]\n",
    "    WATER_COM = WATER_COM_frames[idx]\n",
    "    box_length = box_lengths[idx]\n",
    "    \n",
    "    # Assuming `MCG` takes these arguments and computes the order parameter\n",
    "    MCG_OP, _, monomer_coords = mcg.MCG_optimized(CAR_COM, WATER_COM, box_length, guest_cutoff=0.9)\n",
    "    \n",
    "    #np.savetxt( '../mcg_tests/monomers.xyz', monomer_coords)\n",
    "    print(f'\\rProcessing frame {idx + 1}/{total_frames}', end='', flush=True)\n",
    "    #print(f'The largest cluster size in the system at frame {frame} and time {round(time_ps, 10)} is: {MCG_OP}')\n",
    "    MCG_OP_new_results.append(MCG_OP)\n",
    "time_torch = time.time() - time0"
   ]
  },
  {
   "cell_type": "code",
   "execution_count": null,
   "id": "434940d4-a2eb-4ffe-8d7b-41199cac5106",
   "metadata": {},
   "outputs": [],
   "source": [
    "#print(mcg_values_comparison[int(sp_frame//1e5)])"
   ]
  },
  {
   "cell_type": "code",
   "execution_count": null,
   "id": "30f5e0d5-cc2f-4040-a221-fa2c2f4e02ba",
   "metadata": {},
   "outputs": [],
   "source": [
    "plt.plot(frames_comp, mcg_values_comparison, label='during TPS')\n",
    "plt.plot(traj.time + 0, MCG_OP_new_results, color = 'r', zorder = 1000, label = 'from trajectory')\n",
    "# plt.scatter(sxp_frame, mcg_values_comparison[int(sp_frame//1e5)], c = 'black', label = 'SP', s = 10, zorder = 10000)\n",
    "plt.axhline(10, c='black')\n",
    "plt.axhline(300, c='black', label='stable states')\n",
    "plt.legend()\n",
    "plt.ylabel('MCG')\n",
    "plt.xlabel('frames')\n",
    "plt.savefig('error3.png')\n",
    "plt.xlim(0e8,0.02e8)\n",
    "plt.ylim(0, 15)"
   ]
  },
  {
   "cell_type": "markdown",
   "id": "d3050111-0728-4944-b943-87f10e2eda1f",
   "metadata": {},
   "source": [
    "USING THE EXACT SAME (COM) CALCULATION AS DURING TPS"
   ]
  },
  {
   "cell_type": "code",
   "execution_count": null,
   "id": "099af483-81b7-4efb-bd6e-6a5eea5593b7",
   "metadata": {},
   "outputs": [],
   "source": [
    "testlogfile_path = os.path.join(folder, 'log_test.txt')"
   ]
  },
  {
   "cell_type": "code",
   "execution_count": null,
   "id": "556d64fa-3864-428c-bc20-552365c99ca8",
   "metadata": {},
   "outputs": [],
   "source": [
    "MCG_per_frame = []\n",
    "\n",
    "co2_coms_pf = []\n",
    "water_coms_pf = []\n",
    "box_lengths_pf = []\n",
    " \n",
    "for idx in range(traj.n_frames):\n",
    "    x_p = traj.xyz[idx]\n",
    "    L = traj.unitcell_vectors[idx][0][0]\n",
    "    co2_coms, water_coms, box_length = mcg.CO2ClathrateCOM(x_p, L)\n",
    "    box_lengths_pf.append(box_length)\n",
    "    co2_coms_pf.append(co2_coms)\n",
    "    water_coms_pf.append(water_coms)\n",
    "    MCG_OP, _, _ = mcg.MCG_optimized(co2_coms, water_coms, box_length)\n",
    "    MCG_per_frame.append(MCG_OP)"
   ]
  },
  {
   "cell_type": "code",
   "execution_count": null,
   "id": "05df9c5b-7b94-48ae-9c2f-97f3d8334b60",
   "metadata": {},
   "outputs": [],
   "source": [
    "plt.plot(frames_comp, mcg_values_comparison, label='during TPS')\n",
    "plt.scatter(traj.time + 0, MCG_per_frame, color = 'r', zorder = 1000, label = 'per frame')\n",
    "plt.plot(traj.time + 0, MCG_OP_new_results, color = 'r', zorder = 1000, label = 'from trajectory')\n",
    "#plt.scatter(traj.time + 94800000, MCG_per_frame, color = 'g', zorder = 1000, label = 'from trajectory', s= 0.1)\n",
    "# plt.scatter(sxp_frame, mcg_values_comparison[int(sp_frame//1e5)], c = 'black', label = 'SP', s = 10, zorder = 10000)\n",
    "plt.axhline(10, c='black')\n",
    "plt.axhline(300, c='black', label='stable states')\n",
    "plt.legend()\n",
    "plt.ylabel('MCG')\n",
    "plt.xlabel('frames')\n",
    "plt.savefig('error3.png')\n",
    "#plt.xlim(1.75e8,1.79e8)\n",
    "#plt.ylim(250, 300)\n",
    "plt.xlim(0e8,0.02e8)\n",
    "plt.ylim(0, 15)"
   ]
  },
  {
   "cell_type": "code",
   "execution_count": null,
   "id": "fc52495b-f024-4ddc-b69f-fca1e3b0ca90",
   "metadata": {},
   "outputs": [],
   "source": [
    "CAR_COM_frames = np.array(CAR_COM_frames)\n",
    "co2_coms_pf = np.array(co2_coms_pf)"
   ]
  },
  {
   "cell_type": "code",
   "execution_count": null,
   "id": "8b519ea4-e8b5-4fe0-ae1f-ec3ae76e1a08",
   "metadata": {},
   "outputs": [],
   "source": [
    "WATER_COM_frames = np.array(WATER_COM_frames)\n",
    "water_coms_pf = np.array(water_coms_pf)"
   ]
  },
  {
   "cell_type": "code",
   "execution_count": null,
   "id": "27a43a8f-c9af-42ea-9eed-c31d23f9efe8",
   "metadata": {},
   "outputs": [],
   "source": [
    "print(np.shape(CAR_COM_frames))\n",
    "\n",
    "print(np.shape(co2_coms_pf))"
   ]
  },
  {
   "cell_type": "code",
   "execution_count": null,
   "id": "3c2866e9-e304-4f28-84eb-005f6d5ffe92",
   "metadata": {},
   "outputs": [],
   "source": [
    "print(np.shape(CAR_COM_frames))"
   ]
  },
  {
   "cell_type": "code",
   "execution_count": null,
   "id": "1fd6b899-a355-4579-9730-af5439b61f98",
   "metadata": {},
   "outputs": [],
   "source": [
    "#for i in range(10):\n",
    "i = 5\n",
    "plt.plot(CAR_COM_frames[:, i, 0], label = 'from traj')\n",
    "plt.plot(co2_coms_pf[:, i, 0], alpha = 0.5, label='per frame')\n",
    "#plt.plot(CAR_COM_frames[:, i, 0] - co2_coms_pf[:, i, 0])\n",
    "plt.legend()\n",
    "plt.show()\n",
    "print(np.shape(traj.xyz))\n",
    "#traj.xyz[:,i,0]"
   ]
  },
  {
   "cell_type": "code",
   "execution_count": null,
   "id": "470403b4-fdfe-40cb-ab72-eceade40e2a1",
   "metadata": {},
   "outputs": [],
   "source": [
    "traj_atom_5 = traj.atom_slice([16])"
   ]
  },
  {
   "cell_type": "code",
   "execution_count": null,
   "id": "3265de51-e412-4345-8023-4c341b95e58e",
   "metadata": {},
   "outputs": [],
   "source": [
    "print(traj_atom_5.xyz[:, 0])"
   ]
  },
  {
   "cell_type": "code",
   "execution_count": null,
   "id": "75bdc4c1-74c9-431a-9cfb-03d64bfa238b",
   "metadata": {},
   "outputs": [],
   "source": []
  }
 ],
 "metadata": {
  "kernelspec": {
   "display_name": "Python 3 (ipykernel)",
   "language": "python",
   "name": "python3"
  },
  "language_info": {
   "codemirror_mode": {
    "name": "ipython",
    "version": 3
   },
   "file_extension": ".py",
   "mimetype": "text/x-python",
   "name": "python",
   "nbconvert_exporter": "python",
   "pygments_lexer": "ipython3",
   "version": "3.8.18"
  }
 },
 "nbformat": 4,
 "nbformat_minor": 5
}
