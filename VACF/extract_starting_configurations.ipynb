{
 "cells": [
  {
   "cell_type": "code",
   "execution_count": 58,
   "id": "2e58c526-dff1-406c-a86c-3bac276c7bfa",
   "metadata": {},
   "outputs": [],
   "source": [
    "import mdtraj as md\n",
    "import numpy as np\n",
    "import os"
   ]
  },
  {
   "cell_type": "markdown",
   "id": "06d9d4f2-d00b-4312-91dc-173a172dc744",
   "metadata": {},
   "source": [
    "# Amorphous"
   ]
  },
  {
   "cell_type": "code",
   "execution_count": 59,
   "id": "e21511bd-dc20-4bf6-aeb6-81ffd1c65765",
   "metadata": {},
   "outputs": [],
   "source": [
    "gro_folder = '../gro_files'\n",
    "top_file = os.path.join(gro_folder, 'conf.gro')"
   ]
  },
  {
   "cell_type": "code",
   "execution_count": 60,
   "id": "b45ffc29-65d6-44f9-b9d9-0f89b653a5b0",
   "metadata": {},
   "outputs": [],
   "source": [
    "amorph_traj = md.load('Trajectories/Amorphous/traj_10.dcd', top = top_file)"
   ]
  },
  {
   "cell_type": "code",
   "execution_count": 61,
   "id": "291d620e-94e9-4767-a41f-464de63bb347",
   "metadata": {},
   "outputs": [],
   "source": [
    "cv = np.loadtxt('Trajectories/Amorphous/cv_10.txt')"
   ]
  },
  {
   "cell_type": "code",
   "execution_count": 62,
   "id": "e221a872-2502-4ba2-b603-7225c5710763",
   "metadata": {},
   "outputs": [],
   "source": [
    "idx_10 = np.argmin(np.abs(cv[:, 1] - 10))\n",
    "idx_150 = np.argmin(np.abs(cv[:, 1] - 150))\n",
    "idx_300 = np.argmin(np.abs(cv[:, 1] - 300))"
   ]
  },
  {
   "cell_type": "code",
   "execution_count": 63,
   "id": "6ea34cab-a389-43c2-80da-25490b61c486",
   "metadata": {},
   "outputs": [],
   "source": [
    "frame_10 = amorph_traj[idx_10]\n",
    "frame_150 = amorph_traj[idx_150]\n",
    "frame_300 = amorph_traj[idx_300]"
   ]
  },
  {
   "cell_type": "code",
   "execution_count": 64,
   "id": "974f8e75-46ca-413b-ba49-8ee9fc068c01",
   "metadata": {},
   "outputs": [],
   "source": [
    "frame_10.save('Trajectories/Amorphous/frame_cv_10.dcd')\n",
    "frame_150.save('Trajectories/Amorphous/frame_cv_150.dcd')\n",
    "frame_300.save('Trajectories/Amorphous/frame_cv_300.dcd')"
   ]
  },
  {
   "cell_type": "markdown",
   "id": "44226464-e6e1-459c-b4da-096e238ae3d0",
   "metadata": {},
   "source": [
    "# Crystalline"
   ]
  },
  {
   "cell_type": "code",
   "execution_count": 65,
   "id": "a3f552b5-83de-4a28-bca5-c2678adfda0e",
   "metadata": {},
   "outputs": [],
   "source": [
    "cryst_traj = md.load('Trajectories/Crystalline/traj_10.dcd', top = top_file)"
   ]
  },
  {
   "cell_type": "code",
   "execution_count": 66,
   "id": "bc79d4c0-2bf0-40d3-bb60-b5c2eb5b27ec",
   "metadata": {},
   "outputs": [],
   "source": [
    "cv = np.loadtxt('Trajectories/Crystalline/cv_10.txt')"
   ]
  },
  {
   "cell_type": "code",
   "execution_count": 67,
   "id": "ac85b8af-3d72-4b49-85a2-a7df14830773",
   "metadata": {},
   "outputs": [],
   "source": [
    "idx_10 = np.argmin(np.abs(cv[:, 1] - 10))\n",
    "idx_150 = np.argmin(np.abs(cv[:, 1] - 150))\n",
    "idx_300 = np.argmin(np.abs(cv[:, 1] - 300))"
   ]
  },
  {
   "cell_type": "code",
   "execution_count": 68,
   "id": "a2dfdf52-b71d-4916-b730-92db73b69072",
   "metadata": {},
   "outputs": [],
   "source": [
    "frame_10 = cryst_traj[idx_10]\n",
    "frame_150 = cryst_traj[idx_150]\n",
    "frame_300 = cryst_traj[idx_300]"
   ]
  },
  {
   "cell_type": "code",
   "execution_count": 69,
   "id": "dbf7070d-2c2d-4059-93b4-7c8f023d343e",
   "metadata": {},
   "outputs": [],
   "source": [
    "frame_10.save('Trajectories/Crystalline/frame_cv_10.dcd')\n",
    "frame_150.save('Trajectories/Crystalline/frame_cv_150.dcd')\n",
    "frame_300.save('Trajectories/Crystalline/frame_cv_300.dcd')"
   ]
  }
 ],
 "metadata": {
  "kernelspec": {
   "display_name": "Python 3 (ipykernel)",
   "language": "python",
   "name": "python3"
  },
  "language_info": {
   "codemirror_mode": {
    "name": "ipython",
    "version": 3
   },
   "file_extension": ".py",
   "mimetype": "text/x-python",
   "name": "python",
   "nbconvert_exporter": "python",
   "pygments_lexer": "ipython3",
   "version": "3.8.18"
  }
 },
 "nbformat": 4,
 "nbformat_minor": 5
}
