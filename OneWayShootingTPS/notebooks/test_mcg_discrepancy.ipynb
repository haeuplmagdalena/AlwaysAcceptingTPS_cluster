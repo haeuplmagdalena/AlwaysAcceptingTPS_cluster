{
 "cells": [
  {
   "cell_type": "code",
   "execution_count": 1,
   "id": "fc3b7cb9-7fb5-4a83-b4d9-9cf59d56712c",
   "metadata": {},
   "outputs": [],
   "source": [
    "import sys\n",
    "import numpy as np\n",
    "import os\n",
    "import matplotlib.pyplot as plt\n",
    "\n",
    "import mcg\n",
    "import mdtraj as md\n",
    "import time\n",
    "import pandas as pd"
   ]
  },
  {
   "cell_type": "code",
   "execution_count": 2,
   "id": "4a9046d8-629a-4c52-a36d-daefb929b4e1",
   "metadata": {},
   "outputs": [],
   "source": [
    "mu = 160\n",
    "run = 4\n",
    "idx = 1\n",
    "burst = 1e5\n",
    "stride = 1"
   ]
  },
  {
   "cell_type": "code",
   "execution_count": 3,
   "id": "01ab58ce-16bd-449d-9b51-09f30b4e5cf4",
   "metadata": {},
   "outputs": [],
   "source": [
    "folder = f\"archive/data_unwrapped_error/data_mu{mu}/run{run}/\"\n",
    "\n",
    "conffolder = \"gro_files\""
   ]
  },
  {
   "cell_type": "code",
   "execution_count": 4,
   "id": "9fed3009-875a-4563-90a1-8eacdde9e845",
   "metadata": {},
   "outputs": [],
   "source": [
    "def read_xyz_trajectory(xyz_filename):\n",
    "    \"\"\"\n",
    "    Reads an XYZ trajectory file written by OpenMM and reconstructs the trajectory data.\n",
    "    \n",
    "    Args:\n",
    "        xyz_filename (str): Path to the XYZ file\n",
    "        \n",
    "    Returns:\n",
    "        dict: A dictionary containing:\n",
    "            - 'positions' (np.ndarray): Array of shape (n_frames, n_atoms, 3)\n",
    "            - 'box_lengths' (np.ndarray): Array of shape (n_frames,)\n",
    "            - 'steps' (np.ndarray): Array of step numbers for each frame\n",
    "            - 'elements' (list): List of element symbols for each atom\n",
    "    \"\"\"\n",
    "    with open(xyz_filename, 'r') as f:\n",
    "        lines = f.readlines()\n",
    "    \n",
    "    frames = []\n",
    "    current_frame = {}\n",
    "    box_lengths = []\n",
    "    steps = []\n",
    "    \n",
    "    i = 0\n",
    "    while i < len(lines):\n",
    "        # Read number of atoms\n",
    "        if not lines[i].strip():\n",
    "            i += 1\n",
    "            continue\n",
    "            \n",
    "        n_atoms = int(lines[i].strip())\n",
    "        i += 1\n",
    "        \n",
    "        # Read step and box length information\n",
    "        header = lines[i].strip()\n",
    "        i += 1\n",
    "        \n",
    "        # Parse step number and box length\n",
    "        step_str, _, box_str = header.partition(' at L : ')\n",
    "        step = int(step_str.replace('Step ', ''))\n",
    "        box_length = float(box_str)\n",
    "        \n",
    "        # Read atomic positions\n",
    "        positions = []\n",
    "        elements = []\n",
    "        for _ in range(n_atoms):\n",
    "            parts = lines[i].strip().split()\n",
    "            elements.append(parts[0])\n",
    "            positions.append([float(x) for x in parts[1:4]])\n",
    "            i += 1\n",
    "        \n",
    "        # Store frame data\n",
    "        frames.append(np.array(positions, dtype=np.float64))\n",
    "        box_lengths.append(box_length)\n",
    "        steps.append(step)\n",
    "        \n",
    "        # Store elements only once (assuming they don't change)\n",
    "        if 'elements' not in current_frame:\n",
    "            current_frame['elements'] = elements\n",
    "    \n",
    "    # Convert to numpy arrays\n",
    "    current_frame['positions'] = np.array(frames)  # Shape: (n_frames, n_atoms, 3)\n",
    "    current_frame['box_lengths'] = np.array(box_lengths)\n",
    "    current_frame['steps'] = np.array(steps)\n",
    "    \n",
    "    return current_frame\n",
    "\n",
    "# Usage example:\n",
    "traj_data = read_xyz_trajectory(os.path.join(folder, f\"trial_{idx}.xyz\"))\n",
    "\n",
    "# To get similar data structure as your original code:\n",
    "# positions_value equivalent for first frame: traj_data['positions'][0]\n",
    "# boxlength_value equivalent for first frame: traj_data['box_lengths'][0]\n",
    "# step number equivalent: traj_data['steps'][0]"
   ]
  },
  {
   "cell_type": "code",
   "execution_count": 5,
   "id": "c91393f6-5c42-4f1a-af01-f38f4540c51b",
   "metadata": {},
   "outputs": [
    {
     "name": "stdout",
     "output_type": "stream",
     "text": [
      "Trajectory loaded using every 1th step\n"
     ]
    }
   ],
   "source": [
    "# Input files\n",
    "# folder = \"../../data/T_250_P_500/simulation_co2_system_N_2000k_222000k_T_250_P_500_v3\"\n",
    "# xtc_file = os.path.join(folder, \"output.xtc\")\n",
    "dcd_file = os.path.join(folder, f\"rejected_traj_trial_{idx}.dcd\")\n",
    "topology_file = os.path.join(conffolder, \"conf.gro\")\n",
    "\n",
    "\n",
    "# Load the trajectory with a stride of n (e.g., every 10th frame)\n",
    "n = stride  # Change this to the desired interval\n",
    "traj = md.load(dcd_file, top=topology_file, stride=n)\n",
    "original_frame_indices = np.arange(traj.n_frames) * n\n",
    "\n",
    "traj.time = np.arange(0, traj.n_frames) * burst * n\n",
    "\n",
    "\n",
    "#traj.xyz = traj.xyz.astype('float32')\n",
    "\n",
    "\n",
    "# Save the reduced trajectory as a .gro file\n",
    "# Output file\n",
    "# gro_file = \"trajectory.gro\"\n",
    "# traj.save_gro(gro_file)\n",
    "\n",
    "print(f\"Trajectory loaded using every {n}th step\")"
   ]
  },
  {
   "cell_type": "code",
   "execution_count": 6,
   "id": "b0e0460a-e773-4816-aca5-35f180ba64bb",
   "metadata": {},
   "outputs": [],
   "source": [
    "pos_xyz = traj_data['positions']\n",
    "pos_traj = traj.xyz[1:]\n",
    "\n",
    "box_lengths_xyz = traj_data['box_lengths']\n",
    "box_lengths_traj = traj.unitcell_vectors[1:][:,0,0]\n",
    "\n",
    "atom_1_xyz = pos_xyz[:, 0, 0]\n",
    "atom_1_traj = pos_traj[:, 0, 0]"
   ]
  },
  {
   "cell_type": "code",
   "execution_count": 7,
   "id": "82728329-3adb-4692-b00d-c7c5a0f30c6f",
   "metadata": {},
   "outputs": [
    {
     "data": {
      "text/plain": [
       "(141, 13312, 3)"
      ]
     },
     "execution_count": 7,
     "metadata": {},
     "output_type": "execute_result"
    }
   ],
   "source": [
    "np.shape(pos_xyz)"
   ]
  },
  {
   "cell_type": "code",
   "execution_count": 8,
   "id": "6f68ab6f-b311-48fe-bd61-a0a00c8c6113",
   "metadata": {},
   "outputs": [
    {
     "data": {
      "text/plain": [
       "(141,)"
      ]
     },
     "execution_count": 8,
     "metadata": {},
     "output_type": "execute_result"
    }
   ],
   "source": [
    "np.shape(box_lengths_traj)"
   ]
  },
  {
   "cell_type": "code",
   "execution_count": 9,
   "id": "3d019a16-65eb-42bd-8a27-3562c66eb218",
   "metadata": {
    "scrolled": true
   },
   "outputs": [
    {
     "data": {
      "text/plain": [
       "<matplotlib.legend.Legend at 0x7fce7b5ed850>"
      ]
     },
     "execution_count": 9,
     "metadata": {},
     "output_type": "execute_result"
    },
    {
     "data": {
      "image/png": "[encoded data removed]",
      "text/plain": [
       "<Figure size 640x480 with 1 Axes>"
      ]
     },
     "metadata": {},
     "output_type": "display_data"
    }
   ],
   "source": [
    "plt.plot(pos_traj[:, 0, 0], label='from dcd file')\n",
    "plt.plot(pos_xyz[:, 0, 0], label='from xyz file')\n",
    "plt.legend()"
   ]
  },
  {
   "cell_type": "code",
   "execution_count": 10,
   "id": "fb4549dc-c0c4-408e-b6f0-86f58b2cb96c",
   "metadata": {},
   "outputs": [],
   "source": [
    "idx = 5"
   ]
  },
  {
   "cell_type": "code",
   "execution_count": 11,
   "id": "36951eb6-f218-4284-abd5-82e4cf15b0db",
   "metadata": {},
   "outputs": [],
   "source": [
    "x_p_xyz = pos_xyz[idx, :, :]\n",
    "x_p_traj = pos_traj[idx, :, :]\n",
    "\n",
    "L_xyz = box_lengths_xyz[idx]\n",
    "L_traj = box_lengths_traj[idx]"
   ]
  },
  {
   "cell_type": "code",
   "execution_count": 12,
   "id": "57a8b495-38e9-4a20-9c45-a9c128a90fc9",
   "metadata": {},
   "outputs": [],
   "source": [
    "co2_coms, water_coms, box_length = mcg.CO2ClathrateCOM(x_p_xyz, L_xyz)\n",
    "MCG_OP, _, _ = mcg.MCG_optimized(co2_coms, water_coms, box_length)"
   ]
  },
  {
   "cell_type": "code",
   "execution_count": 13,
   "id": "e0c5ff87-4c68-4598-817c-d5e926fb1b62",
   "metadata": {},
   "outputs": [
    {
     "data": {
      "text/plain": [
       "146"
      ]
     },
     "execution_count": 13,
     "metadata": {},
     "output_type": "execute_result"
    }
   ],
   "source": [
    "MCG_OP"
   ]
  },
  {
   "cell_type": "code",
   "execution_count": 14,
   "id": "16340ee3-f117-40e8-8c23-843be910e2cf",
   "metadata": {},
   "outputs": [],
   "source": [
    "co2_coms, water_coms, box_length = mcg.CO2ClathrateCOM(x_p_traj, L_traj)\n",
    "MCG_OP, _, _ = mcg.MCG_optimized(co2_coms, water_coms, box_length)"
   ]
  },
  {
   "cell_type": "code",
   "execution_count": 15,
   "id": "b4c5b2b0-29fa-45e4-a61e-437c40281b65",
   "metadata": {},
   "outputs": [
    {
     "data": {
      "text/plain": [
       "146"
      ]
     },
     "execution_count": 15,
     "metadata": {},
     "output_type": "execute_result"
    }
   ],
   "source": [
    "MCG_OP"
   ]
  },
  {
   "cell_type": "code",
   "execution_count": 16,
   "id": "2e3ad087-6c1f-4123-a0f1-cc0fe847d9c2",
   "metadata": {},
   "outputs": [
    {
     "name": "stdout",
     "output_type": "stream",
     "text": [
      "125 125\n",
      "92 92\n",
      "141 141\n",
      "146 146\n",
      "135 135\n",
      "146 146\n",
      "121 120\n",
      "DIFFERENT! at idx 6\n",
      "129 129\n",
      "129 129\n",
      "132 132\n",
      "133 133\n",
      "83 83\n",
      "131 131\n",
      "134 134\n",
      "123 123\n",
      "120 120\n",
      "137 137\n",
      "127 127\n",
      "126 126\n",
      "146 146\n",
      "145 145\n",
      "160 160\n",
      "137 137\n",
      "144 144\n",
      "145 145\n",
      "135 135\n"
     ]
    },
    {
     "ename": "KeyboardInterrupt",
     "evalue": "",
     "output_type": "error",
     "traceback": [
      "\u001b[0;31m---------------------------------------------------------------------------\u001b[0m",
      "\u001b[0;31mKeyboardInterrupt\u001b[0m                         Traceback (most recent call last)",
      "Cell \u001b[0;32mIn[16], line 12\u001b[0m\n\u001b[1;32m      9\u001b[0m MCG_OP_xyz, _, _ \u001b[38;5;241m=\u001b[39m mcg\u001b[38;5;241m.\u001b[39mMCG_optimized(co2_coms, water_coms, box_length)\n\u001b[1;32m     11\u001b[0m co2_coms, water_coms, box_length \u001b[38;5;241m=\u001b[39m mcg\u001b[38;5;241m.\u001b[39mCO2ClathrateCOM(x_p_traj, L_traj)\n\u001b[0;32m---> 12\u001b[0m MCG_OP_traj, _, _ \u001b[38;5;241m=\u001b[39m \u001b[43mmcg\u001b[49m\u001b[38;5;241;43m.\u001b[39;49m\u001b[43mMCG_optimized\u001b[49m\u001b[43m(\u001b[49m\u001b[43mco2_coms\u001b[49m\u001b[43m,\u001b[49m\u001b[43m \u001b[49m\u001b[43mwater_coms\u001b[49m\u001b[43m,\u001b[49m\u001b[43m \u001b[49m\u001b[43mbox_length\u001b[49m\u001b[43m)\u001b[49m\n\u001b[1;32m     14\u001b[0m \u001b[38;5;28mprint\u001b[39m(MCG_OP_xyz, MCG_OP_traj)\n\u001b[1;32m     16\u001b[0m \u001b[38;5;28;01mif\u001b[39;00m MCG_OP_xyz \u001b[38;5;241m!=\u001b[39m MCG_OP_traj:\n",
      "File \u001b[0;32m/leonardo_work/L-AUT_Coretti/CODE/ClathrateTPS/mcg.py:342\u001b[0m, in \u001b[0;36mMCG_optimized\u001b[0;34m(guest_pos, water_pos, box_length, order, guest_cutoff, water_cutoff)\u001b[0m\n\u001b[1;32m    340\u001b[0m water_indices \u001b[38;5;241m=\u001b[39m torch\u001b[38;5;241m.\u001b[39mtensor(\u001b[38;5;28mlist\u001b[39m(mutual_waters), dtype\u001b[38;5;241m=\u001b[39mtorch\u001b[38;5;241m.\u001b[39mlong, device\u001b[38;5;241m=\u001b[39mdevice)\n\u001b[1;32m    341\u001b[0m waters \u001b[38;5;241m=\u001b[39m water_pos[water_indices]\n\u001b[0;32m--> 342\u001b[0m in_cone \u001b[38;5;241m=\u001b[39m \u001b[43mis_within_cone_torch\u001b[49m\u001b[43m(\u001b[49m\n\u001b[1;32m    343\u001b[0m \u001b[43m    \u001b[49m\u001b[43mguest_pos\u001b[49m\u001b[43m[\u001b[49m\u001b[43mi\u001b[49m\u001b[43m]\u001b[49m\u001b[43m,\u001b[49m\u001b[43m \u001b[49m\u001b[43mguest_pos\u001b[49m\u001b[43m[\u001b[49m\u001b[43mj\u001b[49m\u001b[43m]\u001b[49m\u001b[43m,\u001b[49m\u001b[43m \u001b[49m\u001b[43mwaters\u001b[49m\u001b[43m,\u001b[49m\u001b[43m \u001b[49m\u001b[43mbox_length\u001b[49m\n\u001b[1;32m    344\u001b[0m \u001b[43m\u001b[49m\u001b[43m)\u001b[49m\n\u001b[1;32m    346\u001b[0m \u001b[38;5;28;01mif\u001b[39;00m torch\u001b[38;5;241m.\u001b[39msum(in_cone) \u001b[38;5;241m>\u001b[39m\u001b[38;5;241m=\u001b[39m \u001b[38;5;241m5\u001b[39m:\n\u001b[1;32m    347\u001b[0m     adjacency[i,j] \u001b[38;5;241m=\u001b[39m \u001b[38;5;28;01mTrue\u001b[39;00m\n",
      "File \u001b[0;32m/leonardo_work/L-AUT_Coretti/CODE/ClathrateTPS/mcg.py:260\u001b[0m, in \u001b[0;36mis_within_cone_torch\u001b[0;34m(guest1_pos, guest2_pos, water_pos, box_length, angle)\u001b[0m\n\u001b[1;32m    256\u001b[0m \u001b[38;5;250m\u001b[39m\u001b[38;5;124;03m\"\"\"\u001b[39;00m\n\u001b[1;32m    257\u001b[0m \u001b[38;5;124;03mVectorized cone check using PyTorch (GPU-compatible)\u001b[39;00m\n\u001b[1;32m    258\u001b[0m \u001b[38;5;124;03m\"\"\"\u001b[39;00m\n\u001b[1;32m    259\u001b[0m \u001b[38;5;66;03m# Convert to tensors if not already\u001b[39;00m\n\u001b[0;32m--> 260\u001b[0m guest1_pos \u001b[38;5;241m=\u001b[39m \u001b[43mtorch\u001b[49m\u001b[38;5;241;43m.\u001b[39;49m\u001b[43mas_tensor\u001b[49m\u001b[43m(\u001b[49m\u001b[43mguest1_pos\u001b[49m\u001b[43m)\u001b[49m\n\u001b[1;32m    261\u001b[0m guest2_pos \u001b[38;5;241m=\u001b[39m torch\u001b[38;5;241m.\u001b[39mas_tensor(guest2_pos)\n\u001b[1;32m    262\u001b[0m water_pos \u001b[38;5;241m=\u001b[39m torch\u001b[38;5;241m.\u001b[39mas_tensor(water_pos)\n",
      "\u001b[0;31mKeyboardInterrupt\u001b[0m: "
     ]
    }
   ],
   "source": [
    "for idx in range(0, len(box_lengths_xyz), 1):\n",
    "    x_p_xyz = pos_xyz[idx, :, :]\n",
    "    x_p_traj = pos_traj[idx, :, :]\n",
    "    \n",
    "    L_xyz = box_lengths_xyz[idx]\n",
    "    L_traj = box_lengths_traj[idx]\n",
    "    \n",
    "    co2_coms, water_coms, box_length = mcg.CO2ClathrateCOM(x_p_xyz, L_xyz)\n",
    "    MCG_OP_xyz, _, _ = mcg.MCG_optimized(co2_coms, water_coms, box_length)\n",
    "    \n",
    "    co2_coms, water_coms, box_length = mcg.CO2ClathrateCOM(x_p_traj, L_traj)\n",
    "    MCG_OP_traj, _, _ = mcg.MCG_optimized(co2_coms, water_coms, box_length)\n",
    "\n",
    "    print(MCG_OP_xyz, MCG_OP_traj)\n",
    "\n",
    "    if MCG_OP_xyz != MCG_OP_traj:\n",
    "        print(f'DIFFERENT! at idx {idx}')"
   ]
  },
  {
   "cell_type": "code",
   "execution_count": 17,
   "id": "446ae3bd-8db1-4226-9213-44f17deb8c75",
   "metadata": {},
   "outputs": [
    {
     "name": "stdout",
     "output_type": "stream",
     "text": [
      "121 120\n"
     ]
    }
   ],
   "source": [
    "idx = 6\n",
    "\n",
    "x_p_xyz = pos_xyz[idx, :, :]\n",
    "x_p_traj = pos_traj[idx, :, :]\n",
    "\n",
    "L_xyz = box_lengths_xyz[idx]\n",
    "L_traj = box_lengths_traj[idx]\n",
    "\n",
    "co2_coms, water_coms, box_length = mcg.CO2ClathrateCOM(x_p_xyz, L_xyz)\n",
    "MCG_OP_xyz, _, _ = mcg.MCG_optimized(co2_coms, water_coms, box_length)\n",
    "\n",
    "co2_coms, water_coms, box_length = mcg.CO2ClathrateCOM(x_p_traj, L_traj)\n",
    "MCG_OP_traj, _, _ = mcg.MCG_optimized(co2_coms, water_coms, box_length)\n",
    "\n",
    "print(MCG_OP_xyz, MCG_OP_traj)"
   ]
  },
  {
   "cell_type": "code",
   "execution_count": null,
   "id": "35869635-a08d-4b6b-b4cc-56a8fd07d192",
   "metadata": {},
   "outputs": [],
   "source": []
  }
 ],
 "metadata": {
  "kernelspec": {
   "display_name": "Python 3 (ipykernel)",
   "language": "python",
   "name": "python3"
  },
  "language_info": {
   "codemirror_mode": {
    "name": "ipython",
    "version": 3
   },
   "file_extension": ".py",
   "mimetype": "text/x-python",
   "name": "python",
   "nbconvert_exporter": "python",
   "pygments_lexer": "ipython3",
   "version": "3.8.18"
  }
 },
 "nbformat": 4,
 "nbformat_minor": 5
}
