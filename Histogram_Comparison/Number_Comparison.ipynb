{
 "cells": [
  {
   "cell_type": "code",
   "execution_count": 1,
   "id": "006a20ed-09d0-4c01-8181-dfce4b48edce",
   "metadata": {},
   "outputs": [],
   "source": [
    "import numpy as np\n",
    "import matplotlib.pyplot as plt\n",
    "import os\n",
    "import mdtraj as md\n",
    "#import mcg\n",
    "import h5py\n",
    "import pandas as pd\n",
    "import sys\n",
    "sys.path.append('../')\n",
    "import matplotlib_config as cfg\n",
    "import fnmatch\n",
    "from matplotlib import cm\n",
    "import pickle\n",
    "from matplotlib.colors import PowerNorm"
   ]
  },
  {
   "cell_type": "code",
   "execution_count": 88,
   "id": "1c56f31d-1540-42fe-a531-438b1460bf55",
   "metadata": {},
   "outputs": [],
   "source": [
    "AA = True"
   ]
  },
  {
   "cell_type": "code",
   "execution_count": 89,
   "id": "c3662fcd-b83c-45fb-9711-66af3c5cace3",
   "metadata": {},
   "outputs": [],
   "source": [
    "data_base = '/leonardo_scratch/fast/L-AUT_Coretti/ClathrateTPSData/1wS'\n",
    "cage_base_path = '/leonardo_work/L-AUT_Coretti/CODE/ClathrateTPS/1wS_cagedata'\n"
   ]
  },
  {
   "cell_type": "code",
   "execution_count": 95,
   "id": "77b4a583-17df-4da6-935f-7e2fb01b4555",
   "metadata": {},
   "outputs": [],
   "source": [
    "if AA == True:\n",
    "    datafolders =['../AlwaysAcceptingClathrates/data_mu175_chain0_batch_0/', '../AlwaysAcceptingClathrates/data_mu175_chain0_batch_1/', '../AlwaysAcceptingClathrates/data_mu175_chain0_batch_2/', '../AlwaysAcceptingClathrates/data_mu175_chain0_batch_3/']\n",
    "else:\n",
    "    datafolders = ['../ClathrateTPS/data_mu175_chain1_batch_1/', '../ClathrateTPS/data_mu175_chain1_batch_2/', '../ClathrateTPS/data_mu175_chain1_batch_3/', '../ClathrateTPS/data_mu175_chain1_batch_4/']\n",
    "\n",
    "gro_folder = 'gro_files'"
   ]
  },
  {
   "cell_type": "code",
   "execution_count": 96,
   "id": "8dd2aa6b-7f92-4c0c-ad48-ec13dd8fff56",
   "metadata": {},
   "outputs": [
    {
     "name": "stdout",
     "output_type": "stream",
     "text": [
      "['../AlwaysAcceptingClathrates/data_mu175_chain0_batch_0/', '../AlwaysAcceptingClathrates/data_mu175_chain0_batch_1/', '../AlwaysAcceptingClathrates/data_mu175_chain0_batch_2/', '../AlwaysAcceptingClathrates/data_mu175_chain0_batch_3/']\n"
     ]
    }
   ],
   "source": [
    "print(datafolders)"
   ]
  },
  {
   "cell_type": "code",
   "execution_count": 97,
   "id": "6276d636-5dcd-4462-a53c-e26efd725195",
   "metadata": {},
   "outputs": [],
   "source": [
    "def build_pd(run_folder_path):\n",
    "    logfile_path = os.path.join(run_folder_path, 'log.txt')\n",
    "    weights = np.load(os.path.join(run_folder_path, 'trajectory_weights.npy'))[1:]\n",
    "    \n",
    "    # Load the log file\n",
    "    df = pd.read_fwf(\n",
    "        logfile_path,\n",
    "        header=0,\n",
    "        widths=[21] * 7,\n",
    "        strip=True\n",
    "    )\n",
    "    df.columns = df.columns.str.strip()\n",
    "    \n",
    "    # Initialize weights column with zeros\n",
    "    df['Weights'] = 0.0\n",
    "    \n",
    "    # Get successful rows\n",
    "    successful_indices = df[df['Successful'] == True].index\n",
    "    \n",
    "    # Sanity check\n",
    "    assert len(successful_indices) == len(weights), \"Mismatch between successful trajectories and weights\"\n",
    "    \n",
    "    # Assign weights to successful trajectories\n",
    "    for idx, weight in zip(successful_indices, weights):\n",
    "        df.at[idx, 'Weights'] = weight\n",
    "\n",
    "    return df"
   ]
  },
  {
   "cell_type": "code",
   "execution_count": 98,
   "id": "73060799-10cc-4302-bd9e-09c036bc358b",
   "metadata": {
    "scrolled": true
   },
   "outputs": [
    {
     "name": "stdout",
     "output_type": "stream",
     "text": [
      "../AlwaysAcceptingClathrates/data_mu175_chain0_batch_0/\n",
      "For batch data_mu175_chain0_batch_0 we generated 236 trajectories and accepted 236.\n",
      "../AlwaysAcceptingClathrates/data_mu175_chain0_batch_1/\n",
      "For batch data_mu175_chain0_batch_1 we generated 249 trajectories and accepted 249.\n",
      "../AlwaysAcceptingClathrates/data_mu175_chain0_batch_2/\n",
      "For batch data_mu175_chain0_batch_2 we generated 247 trajectories and accepted 247.\n",
      "../AlwaysAcceptingClathrates/data_mu175_chain0_batch_3/\n",
      "For batch data_mu175_chain0_batch_3 we generated 241 trajectories and accepted 241.\n",
      "In total 973 were generated and 973 were accepted, 0 rejected.\n"
     ]
    }
   ],
   "source": [
    "total_generated = 0\n",
    "total_accepted = 0\n",
    "\n",
    "for batch in datafolders:\n",
    "    print(batch)\n",
    "\n",
    "    all_generated = 0\n",
    "    all_accepted = 0\n",
    "    \n",
    "    for runfolder in os.listdir(batch):\n",
    "        if not runfolder.startswith('.') and not runfolder.endswith('lock'):\n",
    "            runfolder_path = os.path.join(batch, runfolder)\n",
    "            df = build_pd(runfolder_path)\n",
    "            #display(df)\n",
    "            num_generated = len(df)\n",
    "            all_generated += num_generated\n",
    "\n",
    "            accepted_num = df['Index'].values[-1]\n",
    "            all_accepted  += accepted_num\n",
    "\n",
    "    total_generated += all_generated\n",
    "    total_accepted += all_accepted\n",
    "    \n",
    "    print(f'For batch {batch.split(\"/\")[-2]} we generated {all_generated} trajectories and accepted {all_accepted}.')\n",
    "\n",
    "print(f'In total {total_generated} were generated and {total_accepted} were accepted, {total_generated-total_accepted} rejected.')"
   ]
  },
  {
   "cell_type": "code",
   "execution_count": null,
   "id": "3cee4127-91f0-455a-ba4f-f96db4c4da0b",
   "metadata": {},
   "outputs": [],
   "source": []
  },
  {
   "cell_type": "code",
   "execution_count": null,
   "id": "cac06036-033e-4d11-baa0-0f0531cad2d2",
   "metadata": {},
   "outputs": [],
   "source": []
  },
  {
   "cell_type": "code",
   "execution_count": null,
   "id": "1e14223d-9bde-4533-873e-a5710e4b2a6c",
   "metadata": {},
   "outputs": [],
   "source": []
  },
  {
   "cell_type": "code",
   "execution_count": null,
   "id": "e0cc8e8a-0cf5-4bb6-b13d-e26930d1d74d",
   "metadata": {},
   "outputs": [],
   "source": []
  }
 ],
 "metadata": {
  "kernelspec": {
   "display_name": "Python 3 (ipykernel)",
   "language": "python",
   "name": "python3"
  },
  "language_info": {
   "codemirror_mode": {
    "name": "ipython",
    "version": 3
   },
   "file_extension": ".py",
   "mimetype": "text/x-python",
   "name": "python",
   "nbconvert_exporter": "python",
   "pygments_lexer": "ipython3",
   "version": "3.8.18"
  }
 },
 "nbformat": 4,
 "nbformat_minor": 5
}
