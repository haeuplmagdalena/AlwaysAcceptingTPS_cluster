{
 "cells": [
  {
   "cell_type": "code",
   "execution_count": 2,
   "id": "90a05750-d4bc-44ee-8784-07f8f66ff89c",
   "metadata": {},
   "outputs": [],
   "source": [
    "import mdtraj as md\n",
    "import h5py\n",
    "import numpy as np"
   ]
  },
  {
   "cell_type": "code",
   "execution_count": null,
   "id": "9e36a737-500b-4807-9252-b64d2027dd4e",
   "metadata": {},
   "outputs": [],
   "source": [
    "topology = '../ClathrateTPS/gro_files/conf.gro'"
   ]
  },
  {
   "cell_type": "code",
   "execution_count": null,
   "id": "a606f1ff-1093-430b-b32a-b2c213fba84f",
   "metadata": {},
   "outputs": [],
   "source": [
    "traj = "
   ]
  },
  {
   "cell_type": "code",
   "execution_count": null,
   "id": "cf7c9b6e-83fd-4b78-82b5-951b74de8f58",
   "metadata": {},
   "outputs": [],
   "source": [
    "with h5py.File(file_path, \"r\") as f:\n",
    "    total_frames = f[\"coordinates\"].shape[0]\n",
    "    n_atoms = f[\"coordinates\"].shape[1]\n",
    "    \n",
    "    # Calculate indices you're going to load\n",
    "    indices = np.arange(0, total_frames, stride)\n",
    "    n_frames = len(indices)\n",
    "\n",
    "    # Preallocate arrays\n",
    "    #coordinates = np.empty((n_frames, n_atoms, 3), dtype=np.float32)\n",
    "    velocities = np.empty((n_frames, n_atoms, 3), dtype=np.float32)\n",
    "\n",
    "    for i, idx in enumerate(tqdm(indices, desc=\"Loading trajectory\")):\n",
    "        #coordinates[i] = f[\"coordinates\"][idx]\n",
    "        velocities[i] = f[\"velocities\"][idx]"
   ]
  },
  {
   "cell_type": "code",
   "execution_count": null,
   "id": "2cbf7f19-54ed-45f2-891e-10d764c79d7e",
   "metadata": {},
   "outputs": [],
   "source": []
  }
 ],
 "metadata": {
  "kernelspec": {
   "display_name": "Python 3 (ipykernel)",
   "language": "python",
   "name": "python3"
  },
  "language_info": {
   "codemirror_mode": {
    "name": "ipython",
    "version": 3
   },
   "file_extension": ".py",
   "mimetype": "text/x-python",
   "name": "python",
   "nbconvert_exporter": "python",
   "pygments_lexer": "ipython3",
   "version": "3.8.18"
  }
 },
 "nbformat": 4,
 "nbformat_minor": 5
}
