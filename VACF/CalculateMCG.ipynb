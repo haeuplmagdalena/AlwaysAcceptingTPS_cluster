{
 "cells": [
  {
   "cell_type": "code",
   "execution_count": 1,
   "id": "99783902-b44a-42d0-b8b3-8eb1b94c7c49",
   "metadata": {},
   "outputs": [],
   "source": [
    "import numpy as np\n",
    "import mdtraj as md\n",
    "\n",
    "import sys\n",
    "sys.path.append(\"../ClathrateTPS\")\n",
    "import mcg"
   ]
  },
  {
   "cell_type": "code",
   "execution_count": 2,
   "id": "f43681be-d439-4caa-b87c-736921e21536",
   "metadata": {},
   "outputs": [],
   "source": [
    "top_file = \"../ClathrateTPS/gro_files/conf.gro\""
   ]
  },
  {
   "cell_type": "code",
   "execution_count": 3,
   "id": "c5c9a309-c4e0-458d-af15-d393a0be8f03",
   "metadata": {},
   "outputs": [],
   "source": [
    "def cv(x_p, L):\n",
    "\n",
    "    co2_coms, water_coms, box_length = mcg.CO2ClathrateCOM(x_p, L)\n",
    "    MCG_OP, _, _ = mcg.MCG_optimized(co2_coms, water_coms, box_length)\n",
    "\n",
    "    return MCG_OP"
   ]
  },
  {
   "cell_type": "code",
   "execution_count": 4,
   "id": "f7d480ed-978f-4ec8-b882-fdd5c9e46deb",
   "metadata": {},
   "outputs": [],
   "source": [
    "input_file = 'InitialTrajectories/Amorphous/cv_300/trajectory.h5'"
   ]
  },
  {
   "cell_type": "code",
   "execution_count": 5,
   "id": "8d41d314-57b6-4dbe-981f-847d812f447d",
   "metadata": {},
   "outputs": [
    {
     "name": "stderr",
     "output_type": "stream",
     "text": [
      "/leonardo/home/userexternal/mhaeupl0/clathrate_env/lib/python3.8/site-packages/mdtraj/core/trajectory.py:441: UserWarning: top= kwargs ignored since this file parser does not support it\n",
      "  warnings.warn(\"top= kwargs ignored since this file parser does not support it\")\n"
     ]
    },
    {
     "name": "stdout",
     "output_type": "stream",
     "text": [
      "<mdtraj.Trajectory with 100 frames, 13312 atoms, 3456 residues, and unitcells>\n",
      "(100,)\n"
     ]
    }
   ],
   "source": [
    "traj = md.load(input_file, stride = 1000)#, top = top_file)\n",
    "\n",
    "print(traj)\n",
    "\n",
    "x_p = traj.xyz\n",
    "L = traj.unitcell_vectors[:, 0, 0]\n",
    "\n",
    "print(L.shape)"
   ]
  },
  {
   "cell_type": "code",
   "execution_count": 6,
   "id": "dfd58e73-117e-4e12-abab-bf883c047432",
   "metadata": {},
   "outputs": [
    {
     "name": "stdout",
     "output_type": "stream",
     "text": [
      "(100, 13312, 3)\n"
     ]
    }
   ],
   "source": [
    "print(x_p.shape)"
   ]
  },
  {
   "cell_type": "code",
   "execution_count": 7,
   "id": "6f9ee112-51b3-4551-b8c6-90b3d295862e",
   "metadata": {},
   "outputs": [
    {
     "name": "stdout",
     "output_type": "stream",
     "text": [
      "254\n",
      "267\n",
      "265\n",
      "268\n",
      "268\n",
      "274\n",
      "266\n",
      "263\n",
      "278\n",
      "280\n",
      "273\n",
      "264\n",
      "275\n",
      "288\n",
      "287\n",
      "274\n",
      "280\n",
      "276\n",
      "263\n",
      "276\n",
      "281\n",
      "266\n",
      "275\n",
      "272\n",
      "263\n",
      "279\n",
      "275\n",
      "267\n",
      "276\n",
      "267\n",
      "275\n",
      "270\n",
      "276\n",
      "271\n",
      "270\n",
      "263\n",
      "256\n",
      "263\n",
      "259\n",
      "270\n",
      "262\n",
      "261\n",
      "278\n",
      "278\n",
      "275\n",
      "260\n",
      "270\n",
      "256\n",
      "263\n",
      "278\n",
      "269\n",
      "265\n",
      "278\n",
      "268\n",
      "279\n",
      "272\n",
      "285\n",
      "272\n",
      "263\n",
      "279\n",
      "268\n",
      "273\n",
      "283\n",
      "290\n",
      "282\n",
      "278\n",
      "287\n",
      "273\n",
      "277\n",
      "270\n",
      "276\n",
      "290\n",
      "280\n",
      "268\n",
      "276\n",
      "293\n",
      "272\n",
      "270\n",
      "274\n",
      "265\n",
      "278\n",
      "279\n",
      "284\n",
      "286\n",
      "273\n",
      "273\n",
      "275\n",
      "284\n",
      "284\n",
      "277\n",
      "264\n",
      "267\n",
      "271\n",
      "273\n",
      "276\n",
      "294\n",
      "259\n",
      "271\n",
      "272\n",
      "270\n"
     ]
    }
   ],
   "source": [
    "cv_list = []\n",
    "\n",
    "for frame in range(x_p.shape[0]):\n",
    "    cv_frame = cv(x_p[frame, :, :], L[frame])\n",
    "    print(cv_frame)\n",
    "    cv_list.append(cv_frame)"
   ]
  },
  {
   "cell_type": "code",
   "execution_count": null,
   "id": "1d08564e-b04a-4fdb-ad83-eb2ae07c80e0",
   "metadata": {},
   "outputs": [],
   "source": []
  }
 ],
 "metadata": {
  "kernelspec": {
   "display_name": "Python 3 (ipykernel)",
   "language": "python",
   "name": "python3"
  },
  "language_info": {
   "codemirror_mode": {
    "name": "ipython",
    "version": 3
   },
   "file_extension": ".py",
   "mimetype": "text/x-python",
   "name": "python",
   "nbconvert_exporter": "python",
   "pygments_lexer": "ipython3",
   "version": "3.8.18"
  }
 },
 "nbformat": 4,
 "nbformat_minor": 5
}
